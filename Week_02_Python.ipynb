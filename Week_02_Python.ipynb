{
  "nbformat": 4,
  "nbformat_minor": 0,
  "metadata": {
    "colab": {
      "name": "Week-02-Python.ipynb",
      "provenance": [],
      "collapsed_sections": [],
      "toc_visible": true,
      "authorship_tag": "ABX9TyMs6Zkpn+tVRg26t+46F3Qd",
      "include_colab_link": true
    },
    "kernelspec": {
      "name": "python3",
      "display_name": "Python 3"
    }
  },
  "cells": [
    {
      "cell_type": "markdown",
      "metadata": {
        "id": "view-in-github",
        "colab_type": "text"
      },
      "source": [
        "<a href=\"https://colab.research.google.com/github/weiglemc/altair-examples/blob/master/Week_02_Python.ipynb\" target=\"_parent\"><img src=\"https://colab.research.google.com/assets/colab-badge.svg\" alt=\"Open In Colab\"/></a>"
      ]
    },
    {
      "cell_type": "markdown",
      "metadata": {
        "id": "tV4fe0DCfd1a",
        "colab_type": "text"
      },
      "source": [
        "# CS 432/532 - Week 02 - Python\n",
        "\n",
        "This notebook goes along with the [Week-02 Python slides](https://docs.google.com/presentation/d/1QvcImKQdCGBC9vcwSVg5C4cSmlxire90WBxrNmzmci8/edit?usp=sharing) from [CS 432/532 Spring 2020](https://www.cs.odu.edu/~mweigle/CS432-S20/Home)\n",
        "\n",
        "Google Colab tutorials and references:\n",
        "* [Overview of Colaboratory Features](https://colab.research.google.com/notebooks/basic_features_overview.ipynb)\n",
        "* [Welcome to Colaboratory](https://colab.research.google.com/notebooks/welcome.ipynb)\n",
        "* https://github.com/savankoradiya/Google-Colab-Tutorial\n",
        "* [Colab and GitHub](https://colab.research.google.com/github/googlecolab/colabtools/blob/master/notebooks/colab-github-demo.ipynb)"
      ]
    },
    {
      "cell_type": "markdown",
      "metadata": {
        "id": "uNLQepV3f9_8",
        "colab_type": "text"
      },
      "source": [
        "## Interactive Python Shell"
      ]
    },
    {
      "cell_type": "markdown",
      "metadata": {
        "id": "nHvxncu0ggRX",
        "colab_type": "text"
      },
      "source": [
        "*Print Python version used in the notebook*"
      ]
    },
    {
      "cell_type": "code",
      "metadata": {
        "id": "P8w3OpwFgAm7",
        "colab_type": "code",
        "colab": {
          "base_uri": "https://localhost:8080/",
          "height": 34
        },
        "outputId": "cf3fd10e-24ec-4283-c1e3-c1375add403f"
      },
      "source": [
        "import platform; print(platform.python_version())"
      ],
      "execution_count": 18,
      "outputs": [
        {
          "output_type": "stream",
          "text": [
            "3.6.9\n"
          ],
          "name": "stdout"
        }
      ]
    },
    {
      "cell_type": "code",
      "metadata": {
        "id": "eUnHDzUkgpHt",
        "colab_type": "code",
        "colab": {
          "base_uri": "https://localhost:8080/",
          "height": 221
        },
        "outputId": "101a8f7c-d6ea-443b-f5d7-3eb76d2817f9"
      },
      "source": [
        "help(print)"
      ],
      "execution_count": 8,
      "outputs": [
        {
          "output_type": "stream",
          "text": [
            "Help on built-in function print in module builtins:\n",
            "\n",
            "print(...)\n",
            "    print(value, ..., sep=' ', end='\\n', file=sys.stdout, flush=False)\n",
            "    \n",
            "    Prints the values to a stream, or to sys.stdout by default.\n",
            "    Optional keyword arguments:\n",
            "    file:  a file-like object (stream); defaults to the current sys.stdout.\n",
            "    sep:   string inserted between values, default a space.\n",
            "    end:   string appended after the last value, default a newline.\n",
            "    flush: whether to forcibly flush the stream.\n",
            "\n"
          ],
          "name": "stdout"
        }
      ]
    },
    {
      "cell_type": "code",
      "metadata": {
        "id": "zzeTWQzogrKw",
        "colab_type": "code",
        "colab": {
          "base_uri": "https://localhost:8080/",
          "height": 34
        },
        "outputId": "c082a084-377a-480d-ebab-a4f6abf5cf68"
      },
      "source": [
        "print(\"Hello World!\")"
      ],
      "execution_count": 9,
      "outputs": [
        {
          "output_type": "stream",
          "text": [
            "Hello World!\n"
          ],
          "name": "stdout"
        }
      ]
    },
    {
      "cell_type": "code",
      "metadata": {
        "id": "x3fS5jHrgsvF",
        "colab_type": "code",
        "colab": {
          "base_uri": "https://localhost:8080/",
          "height": 34
        },
        "outputId": "e874faa6-361d-46e4-c75b-3efdac0f3a92"
      },
      "source": [
        "2 + 3 * 4 / 5"
      ],
      "execution_count": 10,
      "outputs": [
        {
          "output_type": "execute_result",
          "data": {
            "text/plain": [
              "4.4"
            ]
          },
          "metadata": {
            "tags": []
          },
          "execution_count": 10
        }
      ]
    },
    {
      "cell_type": "markdown",
      "metadata": {
        "id": "IoMgafEvjOAS",
        "colab_type": "text"
      },
      "source": [
        "## Data Types"
      ]
    },
    {
      "cell_type": "markdown",
      "metadata": {
        "id": "M7wUX9B8hDiB",
        "colab_type": "text"
      },
      "source": [
        "### String vs. Bytes"
      ]
    },
    {
      "cell_type": "code",
      "metadata": {
        "id": "NhADk6DBhG2K",
        "colab_type": "code",
        "colab": {
          "base_uri": "https://localhost:8080/",
          "height": 34
        },
        "outputId": "b0668ff7-ee43-4889-bb50-d201c3a510ee"
      },
      "source": [
        "type(\"Hello\")"
      ],
      "execution_count": 11,
      "outputs": [
        {
          "output_type": "execute_result",
          "data": {
            "text/plain": [
              "str"
            ]
          },
          "metadata": {
            "tags": []
          },
          "execution_count": 11
        }
      ]
    },
    {
      "cell_type": "code",
      "metadata": {
        "id": "i9MyF1yihHow",
        "colab_type": "code",
        "colab": {
          "base_uri": "https://localhost:8080/",
          "height": 34
        },
        "outputId": "317fbe7f-1a0d-45cb-b567-18a6941cbfbc"
      },
      "source": [
        "type(b\"Hello\")"
      ],
      "execution_count": 12,
      "outputs": [
        {
          "output_type": "execute_result",
          "data": {
            "text/plain": [
              "bytes"
            ]
          },
          "metadata": {
            "tags": []
          },
          "execution_count": 12
        }
      ]
    },
    {
      "cell_type": "code",
      "metadata": {
        "id": "ZL9huvCGhJKo",
        "colab_type": "code",
        "colab": {
          "base_uri": "https://localhost:8080/",
          "height": 34
        },
        "outputId": "df070e3c-9dcc-42cd-84e2-3412dea895ce"
      },
      "source": [
        "b\"Hello\".decode()"
      ],
      "execution_count": 13,
      "outputs": [
        {
          "output_type": "execute_result",
          "data": {
            "text/plain": [
              "'Hello'"
            ]
          },
          "metadata": {
            "tags": []
          },
          "execution_count": 13
        }
      ]
    },
    {
      "cell_type": "code",
      "metadata": {
        "id": "gcoqJCW8hKdA",
        "colab_type": "code",
        "colab": {
          "base_uri": "https://localhost:8080/",
          "height": 34
        },
        "outputId": "231e4b92-2ef6-4364-9210-1b36eb32ae62"
      },
      "source": [
        "\"Hello\".encode()"
      ],
      "execution_count": 14,
      "outputs": [
        {
          "output_type": "execute_result",
          "data": {
            "text/plain": [
              "b'Hello'"
            ]
          },
          "metadata": {
            "tags": []
          },
          "execution_count": 14
        }
      ]
    },
    {
      "cell_type": "markdown",
      "metadata": {
        "id": "M1NtxPrUh8mv",
        "colab_type": "text"
      },
      "source": [
        "### List"
      ]
    },
    {
      "cell_type": "code",
      "metadata": {
        "id": "-XNaG2R5h95X",
        "colab_type": "code",
        "colab": {}
      },
      "source": [
        "mylist = [0, 'a', \"hello\", 1, 2, ['b', 'c', 'd']]"
      ],
      "execution_count": 0,
      "outputs": []
    },
    {
      "cell_type": "code",
      "metadata": {
        "id": "Vj3W47_XixpA",
        "colab_type": "code",
        "colab": {
          "base_uri": "https://localhost:8080/",
          "height": 34
        },
        "outputId": "e9eaea3e-573a-465b-d472-c7ac440feec5"
      },
      "source": [
        "mylist [1]"
      ],
      "execution_count": 20,
      "outputs": [
        {
          "output_type": "execute_result",
          "data": {
            "text/plain": [
              "'a'"
            ]
          },
          "metadata": {
            "tags": []
          },
          "execution_count": 20
        }
      ]
    },
    {
      "cell_type": "code",
      "metadata": {
        "id": "gp_sA2pFiyOW",
        "colab_type": "code",
        "colab": {
          "base_uri": "https://localhost:8080/",
          "height": 34
        },
        "outputId": "d1379e03-30db-45a2-814d-c018798b9056"
      },
      "source": [
        "mylist [5][1]"
      ],
      "execution_count": 21,
      "outputs": [
        {
          "output_type": "execute_result",
          "data": {
            "text/plain": [
              "'c'"
            ]
          },
          "metadata": {
            "tags": []
          },
          "execution_count": 21
        }
      ]
    },
    {
      "cell_type": "code",
      "metadata": {
        "id": "1HiqElADizYv",
        "colab_type": "code",
        "colab": {
          "base_uri": "https://localhost:8080/",
          "height": 34
        },
        "outputId": "e6dc53ef-13aa-4918-dd40-b2502482548d"
      },
      "source": [
        "mylist[1:3]"
      ],
      "execution_count": 22,
      "outputs": [
        {
          "output_type": "execute_result",
          "data": {
            "text/plain": [
              "['a', 'hello']"
            ]
          },
          "metadata": {
            "tags": []
          },
          "execution_count": 22
        }
      ]
    },
    {
      "cell_type": "code",
      "metadata": {
        "id": "gPW8jbx5i0jI",
        "colab_type": "code",
        "colab": {
          "base_uri": "https://localhost:8080/",
          "height": 34
        },
        "outputId": "01212cf8-57db-41d5-df2f-7f2693d886cf"
      },
      "source": [
        "mylist[:2]"
      ],
      "execution_count": 23,
      "outputs": [
        {
          "output_type": "execute_result",
          "data": {
            "text/plain": [
              "[0, 'a']"
            ]
          },
          "metadata": {
            "tags": []
          },
          "execution_count": 23
        }
      ]
    },
    {
      "cell_type": "code",
      "metadata": {
        "id": "ZmwsmgNxi16m",
        "colab_type": "code",
        "colab": {
          "base_uri": "https://localhost:8080/",
          "height": 34
        },
        "outputId": "b6ea7847-48d0-4a7c-a1ea-f96d0fe3489b"
      },
      "source": [
        "mylist[3:]"
      ],
      "execution_count": 24,
      "outputs": [
        {
          "output_type": "execute_result",
          "data": {
            "text/plain": [
              "[1, 2, ['b', 'c', 'd']]"
            ]
          },
          "metadata": {
            "tags": []
          },
          "execution_count": 24
        }
      ]
    },
    {
      "cell_type": "code",
      "metadata": {
        "id": "kT85-teZi5mF",
        "colab_type": "code",
        "colab": {
          "base_uri": "https://localhost:8080/",
          "height": 34
        },
        "outputId": "c3743a28-2d86-4a99-86b0-f0f533cf5edf"
      },
      "source": [
        "mylist.remove('a')\n",
        "mylist"
      ],
      "execution_count": 25,
      "outputs": [
        {
          "output_type": "execute_result",
          "data": {
            "text/plain": [
              "[0, 'hello', 1, 2, ['b', 'c', 'd']]"
            ]
          },
          "metadata": {
            "tags": []
          },
          "execution_count": 25
        }
      ]
    },
    {
      "cell_type": "markdown",
      "metadata": {
        "id": "j8qhpJwrjDQU",
        "colab_type": "text"
      },
      "source": [
        "### Tuple"
      ]
    },
    {
      "cell_type": "code",
      "metadata": {
        "id": "6DCmir_NjEuE",
        "colab_type": "code",
        "colab": {
          "base_uri": "https://localhost:8080/",
          "height": 34
        },
        "outputId": "8159e941-5a7b-42e6-fe47-eac01a618d1b"
      },
      "source": [
        "X = (0, 1, 2, 3, 4)\n",
        "print (X[3])"
      ],
      "execution_count": 26,
      "outputs": [
        {
          "output_type": "stream",
          "text": [
            "3\n"
          ],
          "name": "stdout"
        }
      ]
    },
    {
      "cell_type": "markdown",
      "metadata": {
        "id": "5eSzWzhHjKNr",
        "colab_type": "text"
      },
      "source": [
        "### Dictionary"
      ]
    },
    {
      "cell_type": "code",
      "metadata": {
        "id": "d87Z9hTzjVY6",
        "colab_type": "code",
        "colab": {}
      },
      "source": [
        "marks = {\"science\": 90, \"art\": 25}\n",
        "print(marks[\"art\"])"
      ],
      "execution_count": 0,
      "outputs": []
    },
    {
      "cell_type": "code",
      "metadata": {
        "id": "U4QpYaEajX-5",
        "colab_type": "code",
        "colab": {}
      },
      "source": [
        "marks[\"chemistry\"] = 75"
      ],
      "execution_count": 0,
      "outputs": []
    },
    {
      "cell_type": "code",
      "metadata": {
        "id": "9Fv4xOh5jZaa",
        "colab_type": "code",
        "colab": {}
      },
      "source": [
        "print(marks.keys())"
      ],
      "execution_count": 0,
      "outputs": []
    },
    {
      "cell_type": "code",
      "metadata": {
        "id": "Na0AazoOjanZ",
        "colab_type": "code",
        "colab": {
          "base_uri": "https://localhost:8080/",
          "height": 34
        },
        "outputId": "018df20d-2e25-4a5e-c8f4-415026c46968"
      },
      "source": [
        "dict = { \"fish\": 12, \"cat\": 7}\n",
        "'dog' in dict"
      ],
      "execution_count": 27,
      "outputs": [
        {
          "output_type": "execute_result",
          "data": {
            "text/plain": [
              "False"
            ]
          },
          "metadata": {
            "tags": []
          },
          "execution_count": 27
        }
      ]
    },
    {
      "cell_type": "code",
      "metadata": {
        "id": "1_fTtk35jmMA",
        "colab_type": "code",
        "colab": {}
      },
      "source": [
        "dict.keys()"
      ],
      "execution_count": 0,
      "outputs": []
    },
    {
      "cell_type": "code",
      "metadata": {
        "id": "qexlAgcqjiX3",
        "colab_type": "code",
        "colab": {
          "base_uri": "https://localhost:8080/",
          "height": 34
        },
        "outputId": "4a24f9f8-8c07-49d2-a39e-3cd73b1a5da5"
      },
      "source": [
        "dict.values()"
      ],
      "execution_count": 28,
      "outputs": [
        {
          "output_type": "execute_result",
          "data": {
            "text/plain": [
              "dict_values([12, 7])"
            ]
          },
          "metadata": {
            "tags": []
          },
          "execution_count": 28
        }
      ]
    },
    {
      "cell_type": "code",
      "metadata": {
        "id": "kb7TSQ_Xjnlv",
        "colab_type": "code",
        "colab": {}
      },
      "source": [
        "dict.items()"
      ],
      "execution_count": 0,
      "outputs": []
    },
    {
      "cell_type": "code",
      "metadata": {
        "id": "K837kgunjovX",
        "colab_type": "code",
        "colab": {
          "base_uri": "https://localhost:8080/",
          "height": 34
        },
        "outputId": "4172391c-3724-4379-8b50-46cdaf3fb070"
      },
      "source": [
        "dict[\"fish\"] = 14\n",
        "dict.items()"
      ],
      "execution_count": 29,
      "outputs": [
        {
          "output_type": "execute_result",
          "data": {
            "text/plain": [
              "dict_items([('fish', 14), ('cat', 7)])"
            ]
          },
          "metadata": {
            "tags": []
          },
          "execution_count": 29
        }
      ]
    },
    {
      "cell_type": "markdown",
      "metadata": {
        "id": "JLsPl9MSjzc-",
        "colab_type": "text"
      },
      "source": [
        "### Variables"
      ]
    },
    {
      "cell_type": "code",
      "metadata": {
        "id": "bzisbt3Jj0dk",
        "colab_type": "code",
        "colab": {
          "base_uri": "https://localhost:8080/",
          "height": 34
        },
        "outputId": "aac716bb-a0df-4185-c77a-059a827eba9d"
      },
      "source": [
        "X = ['a', 'b', 'c']\n",
        "Y = X\n",
        "Y.append('d')\n",
        "print(X)"
      ],
      "execution_count": 30,
      "outputs": [
        {
          "output_type": "stream",
          "text": [
            "['a', 'b', 'c', 'd']\n"
          ],
          "name": "stdout"
        }
      ]
    },
    {
      "cell_type": "markdown",
      "metadata": {
        "id": "QcGngIrMj85c",
        "colab_type": "text"
      },
      "source": [
        "## User Input"
      ]
    },
    {
      "cell_type": "code",
      "metadata": {
        "id": "wmI0ZcZ2j-Ic",
        "colab_type": "code",
        "colab": {
          "base_uri": "https://localhost:8080/",
          "height": 51
        },
        "outputId": "27fe8560-6f54-4896-87c8-cc5d1de51e89"
      },
      "source": [
        "x = input()\n",
        "x"
      ],
      "execution_count": 31,
      "outputs": [
        {
          "output_type": "stream",
          "text": [
            "3\n"
          ],
          "name": "stdout"
        },
        {
          "output_type": "execute_result",
          "data": {
            "text/plain": [
              "'3'"
            ]
          },
          "metadata": {
            "tags": []
          },
          "execution_count": 31
        }
      ]
    },
    {
      "cell_type": "code",
      "metadata": {
        "id": "MP7atIqwkB3k",
        "colab_type": "code",
        "colab": {
          "base_uri": "https://localhost:8080/",
          "height": 51
        },
        "outputId": "ccc192fd-c2a2-4ddf-9a34-8c4746c75cf4"
      },
      "source": [
        "x = input('Enter the number: ')\n",
        "x"
      ],
      "execution_count": 32,
      "outputs": [
        {
          "output_type": "stream",
          "text": [
            "Enter the number: 3\n"
          ],
          "name": "stdout"
        },
        {
          "output_type": "execute_result",
          "data": {
            "text/plain": [
              "'3'"
            ]
          },
          "metadata": {
            "tags": []
          },
          "execution_count": 32
        }
      ]
    },
    {
      "cell_type": "markdown",
      "metadata": {
        "id": "RtJ44zr1kH-S",
        "colab_type": "text"
      },
      "source": [
        "Evaluate User Input"
      ]
    },
    {
      "cell_type": "code",
      "metadata": {
        "id": "qpt3qq9pkJvi",
        "colab_type": "code",
        "colab": {
          "base_uri": "https://localhost:8080/",
          "height": 34
        },
        "outputId": "52d7b4a3-4113-4176-e668-61152cb77238"
      },
      "source": [
        "x = input()"
      ],
      "execution_count": 33,
      "outputs": [
        {
          "output_type": "stream",
          "text": [
            "3+4\n"
          ],
          "name": "stdout"
        }
      ]
    },
    {
      "cell_type": "code",
      "metadata": {
        "id": "33SOiTMvkNpi",
        "colab_type": "code",
        "colab": {
          "base_uri": "https://localhost:8080/",
          "height": 34
        },
        "outputId": "81d9fe00-ebbd-4393-891a-f7d0ac8addc3"
      },
      "source": [
        "x"
      ],
      "execution_count": 34,
      "outputs": [
        {
          "output_type": "execute_result",
          "data": {
            "text/plain": [
              "'3+4'"
            ]
          },
          "metadata": {
            "tags": []
          },
          "execution_count": 34
        }
      ]
    },
    {
      "cell_type": "code",
      "metadata": {
        "id": "xFxC06rzkO5x",
        "colab_type": "code",
        "colab": {
          "base_uri": "https://localhost:8080/",
          "height": 34
        },
        "outputId": "0bcf754b-202a-43ea-c26c-6a39b1b89ce6"
      },
      "source": [
        "eval(x)"
      ],
      "execution_count": 35,
      "outputs": [
        {
          "output_type": "execute_result",
          "data": {
            "text/plain": [
              "7"
            ]
          },
          "metadata": {
            "tags": []
          },
          "execution_count": 35
        }
      ]
    },
    {
      "cell_type": "markdown",
      "metadata": {
        "id": "q5Q_HhkukUKg",
        "colab_type": "text"
      },
      "source": [
        "**File Read -- *look at how to do this w/Google Drive***"
      ]
    },
    {
      "cell_type": "markdown",
      "metadata": {
        "id": "AC7SeBMBk4yC",
        "colab_type": "text"
      },
      "source": [
        "## Control Flow"
      ]
    },
    {
      "cell_type": "markdown",
      "metadata": {
        "id": "QgYUI4Iurhxv",
        "colab_type": "text"
      },
      "source": [
        "### Conditional"
      ]
    },
    {
      "cell_type": "code",
      "metadata": {
        "id": "6z7aezvflF_H",
        "colab_type": "code",
        "colab": {
          "base_uri": "https://localhost:8080/",
          "height": 34
        },
        "outputId": "b5640951-9455-4307-d703-eae4575d202a"
      },
      "source": [
        "score = input ('Enter the score: ')"
      ],
      "execution_count": 42,
      "outputs": [
        {
          "output_type": "stream",
          "text": [
            "Enter the score: 100\n"
          ],
          "name": "stdout"
        }
      ]
    },
    {
      "cell_type": "markdown",
      "metadata": {
        "id": "k_tf6VGElb1l",
        "colab_type": "text"
      },
      "source": [
        "*Need to convert user input `score` to integer before entering conditional*"
      ]
    },
    {
      "cell_type": "code",
      "metadata": {
        "id": "tVHast0jlX5E",
        "colab_type": "code",
        "colab": {}
      },
      "source": [
        "score = int(score)"
      ],
      "execution_count": 0,
      "outputs": []
    },
    {
      "cell_type": "code",
      "metadata": {
        "id": "g_ZK5FNxk8CZ",
        "colab_type": "code",
        "colab": {
          "base_uri": "https://localhost:8080/",
          "height": 34
        },
        "outputId": "11897efb-0060-447d-9a89-5487770deee0"
      },
      "source": [
        "if score == 100:\n",
        "      print(\"You scored a hundred!\")\n",
        "elif score > 80:\n",
        "      print(\"You are an awesome student!\")\n",
        "else:\n",
        "      print(\"Go and study!\")"
      ],
      "execution_count": 46,
      "outputs": [
        {
          "output_type": "stream",
          "text": [
            "You scored a hundred!\n"
          ],
          "name": "stdout"
        }
      ]
    },
    {
      "cell_type": "markdown",
      "metadata": {
        "id": "4R1sV23hrmMG",
        "colab_type": "text"
      },
      "source": [
        "### While"
      ]
    },
    {
      "cell_type": "code",
      "metadata": {
        "id": "TWs8eFvYro3g",
        "colab_type": "code",
        "colab": {
          "base_uri": "https://localhost:8080/",
          "height": 187
        },
        "outputId": "d3f4941e-d47e-4e5a-9a1d-7ea4493508db"
      },
      "source": [
        "i = 0\n",
        "while i < 10:\n",
        "    print(i)\n",
        "    i = i + 1"
      ],
      "execution_count": 1,
      "outputs": [
        {
          "output_type": "stream",
          "text": [
            "0\n",
            "1\n",
            "2\n",
            "3\n",
            "4\n",
            "5\n",
            "6\n",
            "7\n",
            "8\n",
            "9\n"
          ],
          "name": "stdout"
        }
      ]
    },
    {
      "cell_type": "markdown",
      "metadata": {
        "id": "PjxceQ2grwnB",
        "colab_type": "text"
      },
      "source": [
        "### For"
      ]
    },
    {
      "cell_type": "code",
      "metadata": {
        "id": "Tc0VlzqcryRH",
        "colab_type": "code",
        "colab": {
          "base_uri": "https://localhost:8080/",
          "height": 187
        },
        "outputId": "3b898175-44a4-48c0-bb1a-bb39854be282"
      },
      "source": [
        "for i in range(10):\n",
        "\t print(i)"
      ],
      "execution_count": 2,
      "outputs": [
        {
          "output_type": "stream",
          "text": [
            "0\n",
            "1\n",
            "2\n",
            "3\n",
            "4\n",
            "5\n",
            "6\n",
            "7\n",
            "8\n",
            "9\n"
          ],
          "name": "stdout"
        }
      ]
    },
    {
      "cell_type": "code",
      "metadata": {
        "id": "USTtXjlAr3R2",
        "colab_type": "code",
        "colab": {
          "base_uri": "https://localhost:8080/",
          "height": 102
        },
        "outputId": "dab5c381-951d-4c3e-fc74-f8039520a3ad"
      },
      "source": [
        "myList = ['hany', 'john', 'smith', 'aly', 'max']\n",
        "for name in myList:\n",
        "  print(name)"
      ],
      "execution_count": 3,
      "outputs": [
        {
          "output_type": "stream",
          "text": [
            "hany\n",
            "john\n",
            "smith\n",
            "aly\n",
            "max\n"
          ],
          "name": "stdout"
        }
      ]
    },
    {
      "cell_type": "markdown",
      "metadata": {
        "id": "nqqYzlF-r_tk",
        "colab_type": "text"
      },
      "source": [
        "### Blocks"
      ]
    },
    {
      "cell_type": "code",
      "metadata": {
        "id": "ISdcNb8IsA40",
        "colab_type": "code",
        "colab": {
          "base_uri": "https://localhost:8080/",
          "height": 119
        },
        "outputId": "e3dbad7b-08d6-425b-84a9-1a6c318d2c18"
      },
      "source": [
        "for i in range(3):\n",
        "    print(\"Iteration {}\".format(i))\n",
        "    print(\"Done!\")"
      ],
      "execution_count": 4,
      "outputs": [
        {
          "output_type": "stream",
          "text": [
            "Iteration 0\n",
            "Done!\n",
            "Iteration 1\n",
            "Done!\n",
            "Iteration 2\n",
            "Done!\n"
          ],
          "name": "stdout"
        }
      ]
    },
    {
      "cell_type": "markdown",
      "metadata": {
        "id": "_goQynvysFvb",
        "colab_type": "text"
      },
      "source": [
        "*Only change is in indentation...*"
      ]
    },
    {
      "cell_type": "code",
      "metadata": {
        "id": "MLsCSveasDWs",
        "colab_type": "code",
        "colab": {
          "base_uri": "https://localhost:8080/",
          "height": 85
        },
        "outputId": "e55bf890-bd71-4794-a510-b7f0175cbf0b"
      },
      "source": [
        "for i in range(3):\n",
        "    print(\"Iteration {}\".format(i))\n",
        "print(\"Done!\")\n"
      ],
      "execution_count": 5,
      "outputs": [
        {
          "output_type": "stream",
          "text": [
            "Iteration 0\n",
            "Iteration 1\n",
            "Iteration 2\n",
            "Done!\n"
          ],
          "name": "stdout"
        }
      ]
    },
    {
      "cell_type": "markdown",
      "metadata": {
        "id": "gZv3uQirsTsC",
        "colab_type": "text"
      },
      "source": [
        "***Come back to Loop over File Iterator***"
      ]
    },
    {
      "cell_type": "code",
      "metadata": {
        "id": "_-xjPHpLsWNR",
        "colab_type": "code",
        "colab": {}
      },
      "source": [
        "f = open (\"my_ file.txt\", \"r\")\n",
        "for line in f:\n",
        "  print(line)"
      ],
      "execution_count": 0,
      "outputs": []
    },
    {
      "cell_type": "markdown",
      "metadata": {
        "id": "P0vF17BKscOo",
        "colab_type": "text"
      },
      "source": [
        "### Block Operators"
      ]
    },
    {
      "cell_type": "markdown",
      "metadata": {
        "id": "fPH6Qac2shkn",
        "colab_type": "text"
      },
      "source": [
        "*`pass` - means to do nothing*"
      ]
    },
    {
      "cell_type": "code",
      "metadata": {
        "id": "ggm4HIaZsfXH",
        "colab_type": "code",
        "colab": {}
      },
      "source": [
        "x = 85\n",
        "if x > 80:\n",
        "\tpass\n",
        "else:\n",
        "\tprint(\"You are less than 80!\")"
      ],
      "execution_count": 0,
      "outputs": []
    },
    {
      "cell_type": "markdown",
      "metadata": {
        "id": "7ao0PiOUsxqn",
        "colab_type": "text"
      },
      "source": [
        "*`break` - same as in C++, quit the loop*"
      ]
    },
    {
      "cell_type": "code",
      "metadata": {
        "id": "IEkwdr8Xs0_6",
        "colab_type": "code",
        "colab": {
          "base_uri": "https://localhost:8080/",
          "height": 68
        },
        "outputId": "60002d93-dbab-47f6-9482-97941de924ae"
      },
      "source": [
        "for name in myList:\n",
        "\tif name == \"aly\":\n",
        "\t\tbreak\n",
        "\telse:\n",
        "\t\tprint(name)"
      ],
      "execution_count": 9,
      "outputs": [
        {
          "output_type": "stream",
          "text": [
            "hany\n",
            "john\n",
            "smith\n"
          ],
          "name": "stdout"
        }
      ]
    },
    {
      "cell_type": "markdown",
      "metadata": {
        "id": "ecvoSC1Js5VM",
        "colab_type": "text"
      },
      "source": [
        "*`continue` - same as in C++, continue to the next iteration*"
      ]
    },
    {
      "cell_type": "code",
      "metadata": {
        "id": "0Mrs190-s9Ki",
        "colab_type": "code",
        "colab": {
          "base_uri": "https://localhost:8080/",
          "height": 85
        },
        "outputId": "009690b9-41a1-4b2f-9efc-c92d18e3eb6f"
      },
      "source": [
        "for name in myList:\n",
        "\tif name == \"aly\":\n",
        "\t\tcontinue\n",
        "\telse:\n",
        "\t\tprint(name)"
      ],
      "execution_count": 10,
      "outputs": [
        {
          "output_type": "stream",
          "text": [
            "hany\n",
            "john\n",
            "smith\n",
            "max\n"
          ],
          "name": "stdout"
        }
      ]
    },
    {
      "cell_type": "markdown",
      "metadata": {
        "id": "jiF5omPgtEYZ",
        "colab_type": "text"
      },
      "source": [
        "## Functions"
      ]
    },
    {
      "cell_type": "markdown",
      "metadata": {
        "id": "0AXF8pARtJrg",
        "colab_type": "text"
      },
      "source": [
        "*How can we find the largest number in a list?*\n",
        "\n",
        "**Option 1:** hard-code the logic"
      ]
    },
    {
      "cell_type": "code",
      "metadata": {
        "id": "tuI20k_ytOhH",
        "colab_type": "code",
        "colab": {
          "base_uri": "https://localhost:8080/",
          "height": 34
        },
        "outputId": "ae3014e1-7995-4a1d-9b9e-4caca4649951"
      },
      "source": [
        "mylist = [2,5,3,7,1,8,12,4]\n",
        "maxnum = 0\n",
        "for num in mylist:\n",
        "\tif (num>maxnum):\n",
        "\t\tmaxnum = num\n",
        "print(\"The largest number is {}\".format(maxnum))"
      ],
      "execution_count": 11,
      "outputs": [
        {
          "output_type": "stream",
          "text": [
            "The largest number is: 12\n"
          ],
          "name": "stdout"
        }
      ]
    },
    {
      "cell_type": "markdown",
      "metadata": {
        "id": "QC1FO49QtbCY",
        "colab_type": "text"
      },
      "source": [
        "**Option 2:** write and use a function"
      ]
    },
    {
      "cell_type": "code",
      "metadata": {
        "id": "sVO9PkF1tnFb",
        "colab_type": "code",
        "colab": {}
      },
      "source": [
        "def getMaxNumber(list_x):\n",
        "  maxnum = 0\n",
        "  for num in list_x: \n",
        "    if (num > maxnum):\n",
        "      maxnum = num\n",
        "  return maxnum"
      ],
      "execution_count": 0,
      "outputs": []
    },
    {
      "cell_type": "code",
      "metadata": {
        "id": "DzeKzLO9tgyr",
        "colab_type": "code",
        "colab": {
          "base_uri": "https://localhost:8080/",
          "height": 34
        },
        "outputId": "499cd4e7-bba9-4f97-affb-adbe9ee4ee1c"
      },
      "source": [
        "maxnum = getMaxNumber(mylist)\n",
        "print(\"The largest number is {}\".format(maxnum))"
      ],
      "execution_count": 15,
      "outputs": [
        {
          "output_type": "stream",
          "text": [
            "The largest number is: 12\n"
          ],
          "name": "stdout"
        }
      ]
    },
    {
      "cell_type": "markdown",
      "metadata": {
        "id": "4BV0fB1OwsCa",
        "colab_type": "text"
      },
      "source": [
        "*Let's add code to run some test cases on the function. `doctest` allows us to provide example function calls and expected output.*"
      ]
    },
    {
      "cell_type": "code",
      "metadata": {
        "id": "MW0qrgE2trGz",
        "colab_type": "code",
        "colab": {
          "base_uri": "https://localhost:8080/",
          "height": 221
        },
        "outputId": "5c6b9c9d-c3c3-4779-e7a6-e43ce73a7132"
      },
      "source": [
        "def getMaxNumber(list_x):\n",
        "  \"\"\"\n",
        "  Returns the maximum number from the supplied list\n",
        "  >>> getMaxNumber([4, 7, 2, 5])\n",
        "  7\n",
        "  >>> getMaxNumber([-3, 9, 2])\n",
        "  9\n",
        "  >>> getMaxNumber([-3, -7, -1])\n",
        "  -1\n",
        "  \"\"\"\n",
        "  maxnum = 0\n",
        "  for num in list_x:\n",
        "    if (num>maxnum):\n",
        "      maxnum = num\n",
        "  return maxnum\n",
        "\n",
        "if __name__ == '__main__':\n",
        "  import doctest\n",
        "  doctest.testmod()"
      ],
      "execution_count": 23,
      "outputs": [
        {
          "output_type": "stream",
          "text": [
            "**********************************************************************\n",
            "File \"__main__\", line 8, in __main__.getMaxNumber\n",
            "Failed example:\n",
            "    getMaxNumber([-3, -7, -1])\n",
            "Expected:\n",
            "    -1\n",
            "Got:\n",
            "    0\n",
            "**********************************************************************\n",
            "1 items had failures:\n",
            "   1 of   3 in __main__.getMaxNumber\n",
            "***Test Failed*** 1 failures.\n"
          ],
          "name": "stdout"
        }
      ]
    },
    {
      "cell_type": "markdown",
      "metadata": {
        "id": "UBa4MFEFyX1P",
        "colab_type": "text"
      },
      "source": [
        "*What went wrong? `maxnum = 0`*"
      ]
    },
    {
      "cell_type": "code",
      "metadata": {
        "id": "-ZjiPoV4ybIf",
        "colab_type": "code",
        "colab": {}
      },
      "source": [
        "def getMaxNumber2(list_x):\n",
        "  maxnum = list_x[0]\n",
        "  for num in list_x:\n",
        "    if (num>maxnum):\n",
        "      maxnum = num\n",
        "  return maxnum"
      ],
      "execution_count": 0,
      "outputs": []
    },
    {
      "cell_type": "code",
      "metadata": {
        "id": "oyY_vi1NzsQc",
        "colab_type": "code",
        "colab": {
          "base_uri": "https://localhost:8080/",
          "height": 34
        },
        "outputId": "2d0e20cf-b0fa-46c1-83b5-0fdeb3bdd5f0"
      },
      "source": [
        "getMaxNumber2([-3, -7, -1])"
      ],
      "execution_count": 27,
      "outputs": [
        {
          "output_type": "execute_result",
          "data": {
            "text/plain": [
              "-1"
            ]
          },
          "metadata": {
            "tags": []
          },
          "execution_count": 27
        }
      ]
    },
    {
      "cell_type": "markdown",
      "metadata": {
        "id": "dMsMDDtMxRPG",
        "colab_type": "text"
      },
      "source": [
        "*There's actually already a built-in function for this...*"
      ]
    },
    {
      "cell_type": "code",
      "metadata": {
        "id": "XTGfkvUxxU2a",
        "colab_type": "code",
        "colab": {
          "base_uri": "https://localhost:8080/",
          "height": 34
        },
        "outputId": "0ecdcc7b-726f-4388-c03c-ddfbe7633499"
      },
      "source": [
        "max([-3, -7, -1])"
      ],
      "execution_count": 19,
      "outputs": [
        {
          "output_type": "execute_result",
          "data": {
            "text/plain": [
              "-1"
            ]
          },
          "metadata": {
            "tags": []
          },
          "execution_count": 19
        }
      ]
    },
    {
      "cell_type": "markdown",
      "metadata": {
        "id": "lPeC56220JxD",
        "colab_type": "text"
      },
      "source": [
        "*Functions can also return multiple values*"
      ]
    },
    {
      "cell_type": "code",
      "metadata": {
        "id": "lzbVAxbL0MpL",
        "colab_type": "code",
        "colab": {}
      },
      "source": [
        "def getMaxNumberAndIndex(list_x):\n",
        "  maxnum = list_x[0]\n",
        "  index = -1\n",
        "  i = 0\n",
        "  for num in list_x:\n",
        "\t  if (num>maxnum):\n",
        "\t  \tmaxnum = num\n",
        "\t  \tindex = i\n",
        "\t  i = i + 1\n",
        "  return maxnum, index"
      ],
      "execution_count": 0,
      "outputs": []
    },
    {
      "cell_type": "code",
      "metadata": {
        "id": "T6kVOVrW0X6o",
        "colab_type": "code",
        "colab": {
          "base_uri": "https://localhost:8080/",
          "height": 34
        },
        "outputId": "9eeda828-b386-410b-f947-763511820732"
      },
      "source": [
        "mylist = [2,5,3,7,1,8,12,4]\n",
        "maxnum, idx = getMaxNumberAndIndex(mylist)\n",
        "print(\"The largest number is {} and its index is {}\" . format(maxnum, idx))"
      ],
      "execution_count": 39,
      "outputs": [
        {
          "output_type": "stream",
          "text": [
            "The largest number is 12 and its index is 6\n"
          ],
          "name": "stdout"
        }
      ]
    },
    {
      "cell_type": "markdown",
      "metadata": {
        "id": "om9sGyskSEnB",
        "colab_type": "text"
      },
      "source": [
        "## Using Libraries"
      ]
    },
    {
      "cell_type": "code",
      "metadata": {
        "id": "Qx-DbyhbSJNh",
        "colab_type": "code",
        "colab": {
          "base_uri": "https://localhost:8080/",
          "height": 34
        },
        "outputId": "10faa9dc-cf32-4e76-b634-c9e060c224fc"
      },
      "source": [
        "import math\n",
        "print (math.sqrt(9.0))"
      ],
      "execution_count": 44,
      "outputs": [
        {
          "output_type": "stream",
          "text": [
            "3.0\n"
          ],
          "name": "stdout"
        }
      ]
    },
    {
      "cell_type": "code",
      "metadata": {
        "id": "iQVfCC5ZSTW-",
        "colab_type": "code",
        "colab": {
          "base_uri": "https://localhost:8080/",
          "height": 34
        },
        "outputId": "11b065a6-b9e3-4166-d8d3-8884720a5f22"
      },
      "source": [
        "from math import sqrt\n",
        "print (sqrt(25.0))\n"
      ],
      "execution_count": 45,
      "outputs": [
        {
          "output_type": "stream",
          "text": [
            "5.0\n"
          ],
          "name": "stdout"
        }
      ]
    },
    {
      "cell_type": "markdown",
      "metadata": {
        "id": "kU-9iRvbXghj",
        "colab_type": "text"
      },
      "source": [
        "## Error Handling"
      ]
    },
    {
      "cell_type": "code",
      "metadata": {
        "id": "1mH4qa17XiDt",
        "colab_type": "code",
        "colab": {
          "base_uri": "https://localhost:8080/",
          "height": 34
        },
        "outputId": "d5bc4c8b-66c0-487a-bc99-4f76d237be0b"
      },
      "source": [
        "sum_grades = 300\n",
        "num_students = input()"
      ],
      "execution_count": 54,
      "outputs": [
        {
          "output_type": "stream",
          "text": [
            "0\n"
          ],
          "name": "stdout"
        }
      ]
    },
    {
      "cell_type": "code",
      "metadata": {
        "id": "1g7PU5EnXmIy",
        "colab_type": "code",
        "colab": {
          "base_uri": "https://localhost:8080/",
          "height": 164
        },
        "outputId": "1e78cd6d-366f-4e2d-ccc8-99df868e3a57"
      },
      "source": [
        "average = sum_grades / int(num_students)\n"
      ],
      "execution_count": 53,
      "outputs": [
        {
          "output_type": "error",
          "ename": "ZeroDivisionError",
          "evalue": "ignored",
          "traceback": [
            "\u001b[0;31m---------------------------------------------------------------------------\u001b[0m",
            "\u001b[0;31mZeroDivisionError\u001b[0m                         Traceback (most recent call last)",
            "\u001b[0;32m<ipython-input-53-1cfe2f6d50f2>\u001b[0m in \u001b[0;36m<module>\u001b[0;34m()\u001b[0m\n\u001b[0;32m----> 1\u001b[0;31m \u001b[0maverage\u001b[0m \u001b[0;34m=\u001b[0m \u001b[0msum_grades\u001b[0m \u001b[0;34m/\u001b[0m \u001b[0mint\u001b[0m\u001b[0;34m(\u001b[0m\u001b[0mnumber_of_students\u001b[0m\u001b[0;34m)\u001b[0m\u001b[0;34m\u001b[0m\u001b[0;34m\u001b[0m\u001b[0m\n\u001b[0m",
            "\u001b[0;31mZeroDivisionError\u001b[0m: division by zero"
          ]
        }
      ]
    },
    {
      "cell_type": "code",
      "metadata": {
        "id": "ZzasrD_ZYQ_z",
        "colab_type": "code",
        "colab": {
          "base_uri": "https://localhost:8080/",
          "height": 34
        },
        "outputId": "a4f5839a-c6ff-46cb-c40a-e0895e7d34ce"
      },
      "source": [
        "try:\n",
        "\taverage = sum_grades / int(num_students)\n",
        "except:\n",
        "\t# This catches if something wrong happens\n",
        "\tprint(\"Something wrong happened, please check it!\")\n",
        "\taverage = 0"
      ],
      "execution_count": 55,
      "outputs": [
        {
          "output_type": "stream",
          "text": [
            "Something wrong happened, please check it!\n"
          ],
          "name": "stdout"
        }
      ]
    },
    {
      "cell_type": "code",
      "metadata": {
        "id": "LE6EhwmwYdMS",
        "colab_type": "code",
        "colab": {
          "base_uri": "https://localhost:8080/",
          "height": 34
        },
        "outputId": "604d82a1-de5e-4326-e5c5-bf5ad79b11cb"
      },
      "source": [
        "try:\n",
        "\taverage = sum_grades / int(num_students)\n",
        "except ZeroDivisionError:\n",
        "\t# This catches if something wrong happens\n",
        "\tprint(\"Something wrong happened, please check it!\")\n",
        "\taverage = 0"
      ],
      "execution_count": 56,
      "outputs": [
        {
          "output_type": "stream",
          "text": [
            "Something wrong happened, please check it!\n"
          ],
          "name": "stdout"
        }
      ]
    },
    {
      "cell_type": "code",
      "metadata": {
        "id": "BSX6lKJ0YhMn",
        "colab_type": "code",
        "colab": {
          "base_uri": "https://localhost:8080/",
          "height": 51
        },
        "outputId": "d60174aa-aee2-4597-e1a8-b51e22d6d264"
      },
      "source": [
        "try:\n",
        "  number_of_students = input()\n",
        "  average = sum_grades / int(num_students)\n",
        "except ZeroDivisionError:\n",
        "\t# This catches if a number was divided by zero\n",
        "\tprint(\"You Evil User!.....you inserted a zero!\")\n",
        "\taverage = 0\n",
        "except IOError:\n",
        "\t# This catches errors happening in the input process\n",
        "\tprint(\"Something went wrong with how you enter words\")\n",
        "\taverage = 0"
      ],
      "execution_count": 59,
      "outputs": [
        {
          "output_type": "stream",
          "text": [
            "0\n",
            "You Evil User!.....you inserted a zero!\n"
          ],
          "name": "stdout"
        }
      ]
    },
    {
      "cell_type": "markdown",
      "metadata": {
        "id": "k0YS3UsJYvwN",
        "colab_type": "text"
      },
      "source": [
        "## Generators"
      ]
    },
    {
      "cell_type": "code",
      "metadata": {
        "id": "Czw97n71YxPM",
        "colab_type": "code",
        "colab": {}
      },
      "source": [
        "def fib():\n",
        " a = b = 1\n",
        " while True:\n",
        "    yield a\n",
        "    a, b = b, a + b"
      ],
      "execution_count": 0,
      "outputs": []
    },
    {
      "cell_type": "code",
      "metadata": {
        "id": "fl9gtEB_Y4aM",
        "colab_type": "code",
        "colab": {
          "base_uri": "https://localhost:8080/",
          "height": 102
        },
        "outputId": "a1ecdad3-bb4a-4fb0-ca29-3444a0a14afa"
      },
      "source": [
        "f = fib()\n",
        "print (next(f))\n",
        "print(next(f))\n",
        "print (next(f))\n",
        "print (next(f))\n",
        "print (next(f))"
      ],
      "execution_count": 63,
      "outputs": [
        {
          "output_type": "stream",
          "text": [
            "1\n",
            "1\n",
            "2\n",
            "3\n",
            "5\n"
          ],
          "name": "stdout"
        }
      ]
    },
    {
      "cell_type": "markdown",
      "metadata": {
        "id": "4eglJSYHZcBE",
        "colab_type": "text"
      },
      "source": [
        "## Regular Expressions"
      ]
    },
    {
      "cell_type": "code",
      "metadata": {
        "id": "WXN1GKkYZdTF",
        "colab_type": "code",
        "colab": {}
      },
      "source": [
        "import re\n",
        "loc = \"Location: https://www.cs.odu.edu/~mweigle\""
      ],
      "execution_count": 0,
      "outputs": []
    },
    {
      "cell_type": "markdown",
      "metadata": {
        "id": "CLtX1cwwZmXs",
        "colab_type": "text"
      },
      "source": [
        "*`loc` is an example HTTP Location response header*\n",
        "\n",
        "* We want to build a regular expression to parse the line.*\n",
        "\n"
      ]
    },
    {
      "cell_type": "code",
      "metadata": {
        "id": "UwD1y1BeZmzk",
        "colab_type": "code",
        "colab": {}
      },
      "source": [
        "pattern = re.compile(r\"^([A-Z]+)\\s+(\\S+)\\s+([A-Z0-9\\/\\.]+)$\")\n",
        "m = pattern.match(status)\n",
        "m.groups()"
      ],
      "execution_count": 0,
      "outputs": []
    }
  ]
}